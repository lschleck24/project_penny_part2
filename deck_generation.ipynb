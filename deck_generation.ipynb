{
 "cells": [
  {
   "cell_type": "code",
   "execution_count": null,
   "id": "543b98fa-d5b6-411f-8916-e299d88c194f",
   "metadata": {},
   "outputs": [],
   "source": [
    "import numpy as np\n",
    "import time\n",
    "import os\n",
    "\n",
    "def generate_data(n):\n",
    "    if(os.path.exists(\"deck_data.npy\")):\n",
    "        deck_data = np.load(\"deck_data.npy\",allow_pickle = True)\n",
    "    else:\n",
    "        deck_data = np.zeros((0, 2))\n",
    "    seed = deck_data.shape[0]\n",
    "    start_time = time.time()\n",
    "    for x in range(n):\n",
    "        np.random.seed(seed)\n",
    "        #replace these following 2 lines with call to generate_sequence\n",
    "        shuffled_deck = [1] * 26 + [0] * 26\n",
    "        np.random.shuffle(shuffled_deck)\n",
    "        \n",
    "        new_row = np.array([seed, shuffled_deck], dtype=object)\n",
    "        deck_data = np.vstack([deck_data, new_row])\n",
    "        seed+=1\n",
    "\n",
    "    np.save(\"deck_data.npy\",deck_data)\n",
    "    print(deck_data)\n",
    "\n",
    "    end_time = time.time()\n",
    "\n",
    "    print(end_time-start_time)"
   ]
  },
  {
   "cell_type": "code",
   "execution_count": null,
   "id": "8cca1726-1c4b-46b2-9d09-de45f2fc9a90",
   "metadata": {},
   "outputs": [],
   "source": [
    "def generate_sequence(seed:int,seq:list) -> list:\n",
    "    #return permutated_sequence"
   ]
  }
 ],
 "metadata": {
  "kernelspec": {
   "display_name": "Python 3 (ipykernel)",
   "language": "python",
   "name": "python3"
  },
  "language_info": {
   "codemirror_mode": {
    "name": "ipython",
    "version": 3
   },
   "file_extension": ".py",
   "mimetype": "text/x-python",
   "name": "python",
   "nbconvert_exporter": "python",
   "pygments_lexer": "ipython3",
   "version": "3.11.0"
  }
 },
 "nbformat": 4,
 "nbformat_minor": 5
}
